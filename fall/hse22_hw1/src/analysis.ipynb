{
 "cells": [
  {
   "cell_type": "code",
   "execution_count": 10,
   "metadata": {},
   "outputs": [],
   "source": [
    "import re\n",
    "\n",
    "def process(filename):\n",
    "    file = open(filename, 'r')\n",
    "    lines = file.readlines()\n",
    "    \n",
    "    max_len = 0\n",
    "    max_sequence = \"\"\n",
    "    \n",
    "    total_len = 0\n",
    "    \n",
    "    current_len = 0\n",
    "    current_sequence = \"\"\n",
    "    \n",
    "    count = 0\n",
    "    \n",
    "    result = []\n",
    "    \n",
    "    for line in lines:\n",
    "        if line[0] == '>':\n",
    "            if count:\n",
    "                result.append(current_len)\n",
    "            count += 1\n",
    "            if current_len > max_len:\n",
    "                max_len = current_len\n",
    "                max_sequence = current_sequence\n",
    "                \n",
    "             # also check the last sequence\n",
    "        else:\n",
    "            current_len += len(line.strip())\n",
    "            total_len += len(line.strip())\n",
    "            current_sequence += line.strip()\n",
    "    result.sort()\n",
    "    result.reverse()\n",
    "    total_score = 0\n",
    "    for res in result:\n",
    "        total_score += res\n",
    "        if total_score * 2 >= total_len:\n",
    "            print(\"Количество:\", count)\n",
    "            print(\"Длина:\", total_len)\n",
    "            print(\"Максимальная длина:\", max_len)\n",
    "            print(\"Подсчитанное N50:\", total_score)\n",
    "            break\n",
    "    file.close()\n",
    "    return max_sequence"
   ]
  },
  {
   "cell_type": "code",
   "execution_count": 11,
   "metadata": {},
   "outputs": [
    {
     "name": "stdout",
     "output_type": "stream",
     "text": [
      "Информация о контигах:\n",
      "Количество: 631\n",
      "Длина: 3927078\n",
      "Максимальная длина: 3904746\n",
      "Подсчитанное N50: 3904746\n"
     ]
    }
   ],
   "source": [
    "import os\n",
    "print(\"Информация о контигах:\")\n",
    "d = os.getcwd()\n",
    "d = d[:d.rfind('/')] + '/data'\n",
    "max_contig = process(d + '/contigs.fa')"
   ]
  },
  {
   "cell_type": "code",
   "execution_count": 12,
   "metadata": {},
   "outputs": [
    {
     "name": "stdout",
     "output_type": "stream",
     "text": [
      "Информация о скаффолдах:\n",
      "Количество: 70\n",
      "Длина: 3873604\n",
      "Максимальная длина: 3873500\n",
      "Подсчитанное N50: 3873500\n"
     ]
    }
   ],
   "source": [
    "print(\"Информация о скаффолдах:\") \n",
    "max_scaffold = process(d + '/scaffolds_before_gaps.fa')"
   ]
  },
  {
   "cell_type": "code",
   "execution_count": 13,
   "metadata": {},
   "outputs": [
    {
     "name": "stdout",
     "output_type": "stream",
     "text": [
      "Информация о гэпах в случае необрезанных чтений:\n",
      "Длина всех гэпов: 6284\n",
      "Количество гэпов: 72\n"
     ]
    }
   ],
   "source": [
    "print(\"Информация о гэпах в случае необрезанных чтений:\")\n",
    "print(\"Длина всех гэпов:\", max_scaffold.count(\"N\"))\n",
    "max_scaffold_copy = re.sub('N{2,}', 'N', max_scaffold)\n",
    "print(\"Количество гэпов:\", max_scaffold_copy.count(\"N\"))"
   ]
  },
  {
   "cell_type": "code",
   "execution_count": 16,
   "metadata": {},
   "outputs": [
    {
     "name": "stdout",
     "output_type": "stream",
     "text": [
      "Информация о контигах в случае обрезанных чтений:\n",
      "Количество: 70\n",
      "Длина: 3919726\n",
      "Максимальная длина: 3919622\n",
      "Подсчитанное N50: 3919622\n",
      "Информация о гэпах в случае обрезанных чтений:\n",
      "Длина всех гэпов: 1833\n",
      "Количество гэпов: 9\n"
     ]
    }
   ],
   "source": [
    "print(\"Информация о контигах в случае обрезанных чтений:\")\n",
    "max_scaffold = process(d + '/scaffolds.fa')\n",
    "print(\"Информация о гэпах в случае обрезанных чтений:\")\n",
    "print(\"Длина всех гэпов:\", max_scaffold.count(\"N\"))\n",
    "max_scaffold_copy = re.sub('N{2,}', 'N', max_scaffold)\n",
    "print(\"Количество гэпов:\", max_scaffold_copy.count(\"N\"))\n",
    "\n",
    "f = open(d + '/longest.fa', 'w')\n",
    "f.write(max_scaffold)\n",
    "f.close()"
   ]
  },
  {
   "cell_type": "code",
   "execution_count": 20,
   "metadata": {},
   "outputs": [
    {
     "name": "stdout",
     "output_type": "stream",
     "text": [
      "Информация о контигах:\n",
      "Количество: 3433\n",
      "Длина: 3916770\n",
      "Максимальная длина: 3916737\n",
      "Подсчитанное N50: 3916737\n",
      "Информация о гэпах максимального контига:\n",
      "Длина всех гэпов: 0\n",
      "Количество гэпов: 0\n",
      "\n",
      "\n",
      "Информация о скаффолдах:\n",
      "Количество: 464\n",
      "Длина: 3865231\n",
      "Максимальная длина: 3864990\n",
      "Подсчитанное N50: 3864990\n",
      "\n",
      "Информация о гэпах в случае необрезанных чтений:\n",
      "Длина всех гэпов: 75238\n",
      "Количество гэпов: 1653\n",
      "\n",
      "Информация о контигах в случае обрезанных чтений:\n",
      "Количество: 464\n",
      "Длина: 3856053\n",
      "Максимальная длина: 3855812\n",
      "Подсчитанное N50: 3855812\n",
      "Информация о гэпах в случае обрезанных чтений:\n",
      "Длина всех гэпов: 30842\n",
      "Количество гэпов: 113\n"
     ]
    }
   ],
   "source": [
    "d = os.getcwd()\n",
    "d = d[:d.rfind('/')] + '/bonus/data'\n",
    "\n",
    "print(\"Информация о контигах:\")\n",
    "max_contig = process(d + '/contigs.fa')\n",
    "print(\"Информация о гэпах максимального контига:\")\n",
    "print(\"Длина всех гэпов:\", max_contig.count(\"N\"))\n",
    "max_contig_copy = re.sub('N{2,}', 'N', max_contig)\n",
    "print(\"Количество гэпов:\", max_contig_copy.count(\"N\"))\n",
    "print()\n",
    "print()\n",
    "\n",
    "print(\"Информация о скаффолдах:\") \n",
    "max_scaffold = process(d + '/scaffolds_before_gaps.fa')\n",
    "print()\n",
    "\n",
    "print(\"Информация о гэпах в случае необрезанных чтений:\")\n",
    "print(\"Длина всех гэпов:\", max_scaffold.count(\"N\"))\n",
    "max_scaffold_copy = re.sub('N{2,}', 'N', max_scaffold)\n",
    "print(\"Количество гэпов:\", max_scaffold_copy.count(\"N\"))\n",
    "print()\n",
    "\n",
    "print(\"Информация о контигах в случае обрезанных чтений:\")\n",
    "max_scaffold = process(d + '/scaffolds.fa')\n",
    "print(\"Информация о гэпах в случае обрезанных чтений:\")\n",
    "print(\"Длина всех гэпов:\", max_scaffold.count(\"N\"))\n",
    "max_scaffold_copy = re.sub('N{2,}', 'N', max_scaffold)\n",
    "print(\"Количество гэпов:\", max_scaffold_copy.count(\"N\"))\n",
    "\n",
    "f = open(d + '/longest.fa', 'w')\n",
    "f.write(max_scaffold)\n",
    "f.close()"
   ]
  },
  {
   "cell_type": "code",
   "execution_count": null,
   "metadata": {},
   "outputs": [],
   "source": []
  }
 ],
 "metadata": {
  "kernelspec": {
   "display_name": "Python 3",
   "language": "python",
   "name": "python3"
  },
  "language_info": {
   "codemirror_mode": {
    "name": "ipython",
    "version": 3
   },
   "file_extension": ".py",
   "mimetype": "text/x-python",
   "name": "python",
   "nbconvert_exporter": "python",
   "pygments_lexer": "ipython3",
   "version": "3.8.5"
  }
 },
 "nbformat": 4,
 "nbformat_minor": 4
}
